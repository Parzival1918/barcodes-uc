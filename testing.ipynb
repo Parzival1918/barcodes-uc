{
 "cells": [
  {
   "cell_type": "code",
   "execution_count": 53,
   "metadata": {},
   "outputs": [
    {
     "data": {
      "text/plain": [
       "{'Mode': '0010',\n",
       " 'CharacterCount': '000001011',\n",
       " 'Data': ['01100001011',\n",
       "  '01111000110',\n",
       "  '10001011100',\n",
       "  '10110111000',\n",
       "  '10011010100',\n",
       "  '001101'],\n",
       " 'ExtraPadding': {'TerminatorZeros': '0000',\n",
       "  'MultipleOf8': '',\n",
       "  'PadBytes': ['00',\n",
       "   '11101100',\n",
       "   '00010001',\n",
       "   '11101100',\n",
       "   '00010001',\n",
       "   '11101100',\n",
       "   '00010001']},\n",
       " 'TotalLength': 128,\n",
       " 'ErrorCorrection': []}"
      ]
     },
     "execution_count": 53,
     "metadata": {},
     "output_type": "execute_result"
    }
   ],
   "source": [
    "from barcodes_uc.qrcodes import qrinfo\n",
    "import importlib\n",
    "importlib.reload(qrinfo)\n",
    "\n",
    "qrinfo.qr_size(qrinfo.QRVersion.v1)\n",
    "\n",
    "qrinfo.QRVersion.v1\n",
    "\n",
    "qrinfo.qr_count_indicator(qrinfo.QRVersion.v1, qrinfo.QREncoding.alphanumeric, 'HELLO WORLD')\n",
    "\n",
    "# qrinfo.qr_encode_data(qrinfo.QRVersion.v1, qrinfo.QREncoding.numeric, '002123002')\n",
    "qrinfo.qr_encode_data(qrinfo.QRVersion.v2, qrinfo.QREncoding.alphanumeric, qrinfo.QRErrorCorrectionLevels.H, 'HELLO WORLD')\n",
    "# qrinfo.qr_encode_data(qrinfo.QRVersion.v1, qrinfo.QREncoding.byte, 'Hello')"
   ]
  }
 ],
 "metadata": {
  "kernelspec": {
   "display_name": "Python 3",
   "language": "python",
   "name": "python3"
  },
  "language_info": {
   "codemirror_mode": {
    "name": "ipython",
    "version": 3
   },
   "file_extension": ".py",
   "mimetype": "text/x-python",
   "name": "python",
   "nbconvert_exporter": "python",
   "pygments_lexer": "ipython3",
   "version": "3.9.12"
  },
  "orig_nbformat": 4
 },
 "nbformat": 4,
 "nbformat_minor": 2
}
