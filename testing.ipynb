{
 "cells": [
  {
   "cell_type": "code",
   "execution_count": 37,
   "metadata": {},
   "outputs": [
    {
     "name": "stdout",
     "output_type": "stream",
     "text": [
      "11111110x101101111111\n",
      "10000010x100101000001\n",
      "10111010x000001011101\n",
      "10111010x110001011101\n",
      "10111010x111101011101\n",
      "10000010x110101000001\n",
      "111111101010101111111\n",
      "00000000x110000000000\n",
      "xxxxxx1xx1111xxxxxxxx\n",
      "101011010100011101001\n",
      "010001101101001001010\n",
      "011000000101011101000\n",
      "010011100010100000101\n",
      "000000001101000001100\n",
      "11111110x111010110010\n",
      "10000010x000100011010\n",
      "10111010x001010110110\n",
      "10111010x111011001100\n",
      "10111010x010001000000\n",
      "10000010x001011111000\n",
      "11111110x110000110110\n",
      "\n",
      "208 208 0\n"
     ]
    },
    {
     "data": {
      "text/plain": [
       "21"
      ]
     },
     "execution_count": 37,
     "metadata": {},
     "output_type": "execute_result"
    }
   ],
   "source": [
    "from barcodes_uc.qrcodes import qrinfo\n",
    "from barcodes_uc.qrcodes import qrgenerator\n",
    "import importlib\n",
    "importlib.reload(qrinfo)\n",
    "importlib.reload(qrgenerator)\n",
    "\n",
    "qrinfo.qr_size(qrinfo.QRVersion.v1)\n",
    "\n",
    "qrinfo.QRVersion.v1\n",
    "\n",
    "qrinfo.qr_count_indicator(qrinfo.QRVersion.v1, qrinfo.QREncoding.alphanumeric, 'HELLO WORLD')\n",
    "\n",
    "# qrinfo.qr_encode_data(qrinfo.QRVersion.v1, qrinfo.QREncoding.numeric, '002123002')\n",
    "qrinfo.qr_encode_data(qrinfo.QRVersion.v1, qrinfo.QREncoding.alphanumeric, qrinfo.QRErrorCorrectionLevels.M, 'HELLO WORLD')\n",
    "# qrinfo.qr_encode_data(qrinfo.QRVersion.v1, qrinfo.QREncoding.byte, 'Hello')\n",
    "\n",
    "# qr = qrgenerator.QRGenerator(msg=\"HELLO WORLD\", encoding=qrinfo.QREncoding.byte, version=qrinfo.QRVersion.v5, error_correction=qrinfo.QRErrorCorrectionLevels.Q)\n",
    "# qr = qrgenerator.QRGenerator(msg=\"Hello, world!\", encoding=qrinfo.QREncoding.byte, version=qrinfo.QRVersion.v3, error_correction=qrinfo.QRErrorCorrectionLevels.Q)\n",
    "qr = qrgenerator.QRGenerator(msg=\"Hello\", encoding=qrinfo.QREncoding.byte, version=qrinfo.QRVersion.v1, error_correction=qrinfo.QRErrorCorrectionLevels.Q)\n",
    "ans = qr.generate()\n",
    "ans.size"
   ]
  }
 ],
 "metadata": {
  "kernelspec": {
   "display_name": "Python 3",
   "language": "python",
   "name": "python3"
  },
  "language_info": {
   "codemirror_mode": {
    "name": "ipython",
    "version": 3
   },
   "file_extension": ".py",
   "mimetype": "text/x-python",
   "name": "python",
   "nbconvert_exporter": "python",
   "pygments_lexer": "ipython3",
   "version": "3.9.12"
  },
  "orig_nbformat": 4
 },
 "nbformat": 4,
 "nbformat_minor": 2
}
