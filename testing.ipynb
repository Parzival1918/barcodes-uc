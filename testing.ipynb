{
 "cells": [
  {
   "cell_type": "code",
   "execution_count": 10,
   "metadata": {},
   "outputs": [
    {
     "name": "stdout",
     "output_type": "stream",
     "text": [
      "11111110xXXXXXXXXXXXX01111111\n",
      "10000010xXXXXXXXXXXXX01000001\n",
      "10111010xXXXXXXXXXXXX01011101\n",
      "10111010xXXXXXXXXXXXX01011101\n",
      "10111010xXXXXXXXXXXXX01011101\n",
      "10000010xXXXXXXXXXXXX01000001\n",
      "11111110101010101010101111111\n",
      "00000000xXXXXXXXXXXXX00000000\n",
      "xxxxxx1xxXXXXXXXXXXXXxxxxxxxx\n",
      "XXXXXX0XXXXXXXXXXXXXXXXXXXXXX\n",
      "XXXXXX1XXXXXXXXXXXXXXXXXXXXXX\n",
      "XXXXXX0XXXXXXXXXXXXXXXXXXXXXX\n",
      "XXXXXX1XXXXXXXXXXXXXXXXXXXXXX\n",
      "XXXXXX0XXXXXXXXXXXXXXXXXXXXXX\n",
      "XXXXXX1XXXXXXXXXXXXXXXXXXXXXX\n",
      "XXXXXX0XXXXXXXXXXXXXXXXXXXXXX\n",
      "XXXXXX1XXXXXXXXXXXXXXXXXXXXXX\n",
      "XXXXXX0XXXXXXXXXXXXXXXXXXXXXX\n",
      "XXXXXX1XXXXXXXXXXXXXXXXXXXXXX\n",
      "XXXXXX0XXXXXXXXXXXXXXXXXXXXXX\n",
      "XXXXXX1XXXXXXXXXXXXX11111XXXX\n",
      "000000001XXXXXXXXXXX10001XXXX\n",
      "11111110xXXXXXXXXXXX10101XXXX\n",
      "10000010xXXXXXXXXXXX10001XXXX\n",
      "10111010xXXXXXXXXXXX11111XXXX\n",
      "10111010xXXXXXXXXXXXXXXXXXXXX\n",
      "10111010xXXXXXXXXXXXXXXXXXXXX\n",
      "10000010xXXXXXXXXXXXXXXXXXXXX\n",
      "11111110xXXXXXXXXXXXXXXXXXXXX\n",
      "\n"
     ]
    }
   ],
   "source": [
    "from barcodes_uc.qrcodes import qrinfo\n",
    "from barcodes_uc.qrcodes import qrgenerator\n",
    "import importlib\n",
    "importlib.reload(qrinfo)\n",
    "importlib.reload(qrgenerator)\n",
    "\n",
    "qrinfo.qr_size(qrinfo.QRVersion.v1)\n",
    "\n",
    "qrinfo.QRVersion.v1\n",
    "\n",
    "qrinfo.qr_count_indicator(qrinfo.QRVersion.v1, qrinfo.QREncoding.alphanumeric, 'HELLO WORLD')\n",
    "\n",
    "# qrinfo.qr_encode_data(qrinfo.QRVersion.v1, qrinfo.QREncoding.numeric, '002123002')\n",
    "qrinfo.qr_encode_data(qrinfo.QRVersion.v1, qrinfo.QREncoding.alphanumeric, qrinfo.QRErrorCorrectionLevels.M, 'HELLO WORLD')\n",
    "# qrinfo.qr_encode_data(qrinfo.QRVersion.v1, qrinfo.QREncoding.byte, 'Hello')\n",
    "\n",
    "# qr = qrgenerator.QRGenerator(msg=\"HELLO WORLD\", encoding=qrinfo.QREncoding.byte, version=qrinfo.QRVersion.v5, error_correction=qrinfo.QRErrorCorrectionLevels.Q)\n",
    "qr = qrgenerator.QRGenerator(msg=\"Hello, world!\", encoding=qrinfo.QREncoding.byte, version=qrinfo.QRVersion.v3, error_correction=qrinfo.QRErrorCorrectionLevels.Q)\n",
    "ans = qr.generate()"
   ]
  }
 ],
 "metadata": {
  "kernelspec": {
   "display_name": "Python 3",
   "language": "python",
   "name": "python3"
  },
  "language_info": {
   "codemirror_mode": {
    "name": "ipython",
    "version": 3
   },
   "file_extension": ".py",
   "mimetype": "text/x-python",
   "name": "python",
   "nbconvert_exporter": "python",
   "pygments_lexer": "ipython3",
   "version": "3.9.12"
  },
  "orig_nbformat": 4
 },
 "nbformat": 4,
 "nbformat_minor": 2
}
