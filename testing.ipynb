{
 "cells": [
  {
   "cell_type": "code",
   "execution_count": 12,
   "metadata": {},
   "outputs": [
    {
     "name": "stdout",
     "output_type": "stream",
     "text": [
      "{'Mode': '0100', 'CharacterCount': '00001011', 'Data': ['01001000', '01000101', '01001100', '01001100', '01001111', '00100000', '01010111', '01001111', '01010010', '01001100', '01000100'], 'ExtraPadding': {'TerminatorZeros': '0000', 'MultipleOf8': '', 'PadBytes': ['11101100', '00010001', '11101100', '00010001', '11101100', '00010001', '11101100', '00010001', '11101100', '00010001', '11101100', '00010001', '11101100', '00010001', '11101100', '00010001', '11101100', '00010001', '11101100', '00010001', '11101100']}, 'TotalLength': 272, 'dataBytes': [['01000000', '10110100', '10000100', '01010100', '11000100', '11000100', '11110010', '00000101', '01110100', '11110101', '00100100', '11000100', '01000000', '11101100', '00010001', '11101100', '00010001', '11101100', '00010001', '11101100', '00010001', '11101100', '00010001', '11101100', '00010001', '11101100', '00010001', '11101100', '00010001', '11101100', '00010001', '11101100', '00010001', '11101100']], 'ErrorCorrection': [['10001001', '11100100', '01111110', '10110100', '01111011', '01001001', '01001110', '01011000', '00000101', '10011001']]}\n"
     ]
    },
    {
     "data": {
      "text/plain": [
       "['01000000',\n",
       " '10110100',\n",
       " '10000100',\n",
       " '01010100',\n",
       " '11000100',\n",
       " '11000100',\n",
       " '11110010',\n",
       " '00000101',\n",
       " '01110100',\n",
       " '11110101',\n",
       " '00100100',\n",
       " '11000100',\n",
       " '01000000',\n",
       " '11101100',\n",
       " '00010001',\n",
       " '11101100',\n",
       " '00010001',\n",
       " '11101100',\n",
       " '00010001',\n",
       " '11101100',\n",
       " '00010001',\n",
       " '11101100',\n",
       " '00010001',\n",
       " '11101100',\n",
       " '00010001',\n",
       " '11101100',\n",
       " '00010001',\n",
       " '11101100',\n",
       " '00010001',\n",
       " '11101100',\n",
       " '00010001',\n",
       " '11101100',\n",
       " '00010001',\n",
       " '11101100',\n",
       " '10001001',\n",
       " '11100100',\n",
       " '01111110',\n",
       " '10110100',\n",
       " '01111011',\n",
       " '01001001',\n",
       " '01001110',\n",
       " '01011000',\n",
       " '00000101',\n",
       " '10011001']"
      ]
     },
     "execution_count": 12,
     "metadata": {},
     "output_type": "execute_result"
    }
   ],
   "source": [
    "from barcodes_uc.qrcodes import qrinfo\n",
    "from barcodes_uc.qrcodes import qrgenerator\n",
    "import importlib\n",
    "importlib.reload(qrinfo)\n",
    "importlib.reload(qrgenerator)\n",
    "\n",
    "qrinfo.qr_size(qrinfo.QRVersion.v1)\n",
    "\n",
    "qrinfo.QRVersion.v1\n",
    "\n",
    "qrinfo.qr_count_indicator(qrinfo.QRVersion.v1, qrinfo.QREncoding.alphanumeric, 'HELLO WORLD')\n",
    "\n",
    "# qrinfo.qr_encode_data(qrinfo.QRVersion.v1, qrinfo.QREncoding.numeric, '002123002')\n",
    "qrinfo.qr_encode_data(qrinfo.QRVersion.v1, qrinfo.QREncoding.alphanumeric, qrinfo.QRErrorCorrectionLevels.M, 'HELLO WORLD')\n",
    "# qrinfo.qr_encode_data(qrinfo.QRVersion.v1, qrinfo.QREncoding.byte, 'Hello')\n",
    "\n",
    "qr = qrgenerator.QRGenerator(msg=\"HELLO WORLD\", encoding=qrinfo.QREncoding.byte, version=qrinfo.QRVersion.v2, error_correction=qrinfo.QRErrorCorrectionLevels.L)\n",
    "ans = qr.generate()\n",
    "ans"
   ]
  }
 ],
 "metadata": {
  "kernelspec": {
   "display_name": "Python 3",
   "language": "python",
   "name": "python3"
  },
  "language_info": {
   "codemirror_mode": {
    "name": "ipython",
    "version": 3
   },
   "file_extension": ".py",
   "mimetype": "text/x-python",
   "name": "python",
   "nbconvert_exporter": "python",
   "pygments_lexer": "ipython3",
   "version": "3.9.12"
  },
  "orig_nbformat": 4
 },
 "nbformat": 4,
 "nbformat_minor": 2
}
