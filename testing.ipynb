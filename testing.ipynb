{
 "cells": [
  {
   "cell_type": "code",
   "execution_count": 4,
   "metadata": {},
   "outputs": [
    {
     "name": "stdout",
     "output_type": "stream",
     "text": [
      "11111110x110101111111\n",
      "10000010x100001000001\n",
      "10111010x011001011101\n",
      "10111010x101001011101\n",
      "10111010x000101011101\n",
      "10000010x111001000001\n",
      "111111101010101111111\n",
      "00000000x101000000000\n",
      "xxxxxx1xx0100xxxxxxxx\n",
      "000101011010010111011\n",
      "100111111100100001101\n",
      "001110000110000000100\n",
      "001000100001000100000\n",
      "000000001000011101111\n",
      "11111110x000101111001\n",
      "10000010x000111000010\n",
      "10111010x000100101010\n",
      "10111010x000000001000\n",
      "10111010x011110111100\n",
      "10000010x110100100001\n",
      "11111110x011110110100\n",
      "\n",
      "208 208 0\n"
     ]
    },
    {
     "data": {
      "text/plain": [
       "{7: 111110010010100,\n",
       " 8: 1000010110111100,\n",
       " 9: 1001101010011001,\n",
       " 10: 1010010011010011,\n",
       " 11: 1011101111110110,\n",
       " 12: 1100011101100010,\n",
       " 13: 1101100001000111,\n",
       " 14: 1110011000001101,\n",
       " 15: 1111100100101000,\n",
       " 16: 10000101101111000,\n",
       " 17: 10001010001011101,\n",
       " 18: 10010101000010111,\n",
       " 19: 10011010100110010,\n",
       " 20: 10100100110100110,\n",
       " 21: 10101011010000011,\n",
       " 22: 10110100011001001,\n",
       " 23: 10111011111101100,\n",
       " 24: 11000111011000100,\n",
       " 25: 11001000111100001,\n",
       " 26: 11010111110101011,\n",
       " 27: 11011000010001110,\n",
       " 28: 11100110000011010,\n",
       " 29: 11101001100111111,\n",
       " 30: 11110110101110101,\n",
       " 31: 11111001001010000,\n",
       " 32: 100000100111010101,\n",
       " 33: 100001011011110000,\n",
       " 34: 100010100010111010,\n",
       " 35: 100011011110011111,\n",
       " 36: 100100101100001011,\n",
       " 37: 100101010000101110,\n",
       " 38: 100110101001100100,\n",
       " 39: 100111010101000001,\n",
       " 40: 101000110001101001}"
      ]
     },
     "execution_count": 4,
     "metadata": {},
     "output_type": "execute_result"
    }
   ],
   "source": [
    "from barcodes_uc.qrcodes import qrutils\n",
    "from barcodes_uc.qrcodes import qrgenerator\n",
    "import importlib\n",
    "importlib.reload(qrutils)\n",
    "importlib.reload(qrgenerator)\n",
    "\n",
    "qrutils.qr_size(qrutils.QRVersion.v1)\n",
    "\n",
    "qrutils.QRVersion.v1\n",
    "\n",
    "qrutils.qr_count_indicator(qrutils.QRVersion.v1, qrutils.QREncoding.alphanumeric, 'HELLO WORLD')\n",
    "\n",
    "# qrinfo.qr_encode_data(qrinfo.QRVersion.v1, qrinfo.QREncoding.numeric, '002123002')\n",
    "qrutils.qr_encode_data(qrutils.QRVersion.v1, qrutils.QREncoding.alphanumeric, qrutils.QRErrorCorrectionLevels.M, 'HELLO WORLD')\n",
    "# qrinfo.qr_encode_data(qrinfo.QRVersion.v1, qrinfo.QREncoding.byte, 'Hello')\n",
    "\n",
    "# qr = qrgenerator.QRGenerator(msg=\"HELLO WORLD\", encoding=qrinfo.QREncoding.byte, version=qrinfo.QRVersion.v5, error_correction=qrinfo.QRErrorCorrectionLevels.Q)\n",
    "# qr = qrgenerator.QRGenerator(msg=\"Hello, world!\", encoding=qrinfo.QREncoding.byte, version=qrinfo.QRVersion.v3, error_correction=qrinfo.QRErrorCorrectionLevels.Q)\n",
    "qr = qrgenerator.QRGenerator(msg=\"HELLO WORLD\", encoding=qrutils.QREncoding.alphanumeric, version=qrutils.QRVersion.v1, error_correction=qrutils.QRErrorCorrectionLevels.Q)\n",
    "ans = qr.generate()\n",
    "ans.size\n",
    "ans.reserved_positions"
   ]
  }
 ],
 "metadata": {
  "kernelspec": {
   "display_name": "Python 3",
   "language": "python",
   "name": "python3"
  },
  "language_info": {
   "codemirror_mode": {
    "name": "ipython",
    "version": 3
   },
   "file_extension": ".py",
   "mimetype": "text/x-python",
   "name": "python",
   "nbconvert_exporter": "python",
   "pygments_lexer": "ipython3",
   "version": "3.9.12"
  },
  "orig_nbformat": 4
 },
 "nbformat": 4,
 "nbformat_minor": 2
}
