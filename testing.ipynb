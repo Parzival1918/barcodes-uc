{
 "cells": [
  {
   "cell_type": "code",
   "execution_count": 9,
   "metadata": {},
   "outputs": [
    {
     "data": {
      "text/plain": [
       "'000001101'"
      ]
     },
     "execution_count": 9,
     "metadata": {},
     "output_type": "execute_result"
    }
   ],
   "source": [
    "from barcodes_uc.qrcodes import qrinfo\n",
    "import importlib\n",
    "importlib.reload(qrinfo)\n",
    "\n",
    "qrinfo.qr_size(qrinfo.QRVersion.v1)\n",
    "\n",
    "qrinfo.QRVersion.v1\n",
    "\n",
    "qrinfo.qr_count_indicator(qrinfo.QRVersion.v1, qrinfo.QREncoding.alphanumeric, 'HELLO WORLD')"
   ]
  }
 ],
 "metadata": {
  "kernelspec": {
   "display_name": "Python 3",
   "language": "python",
   "name": "python3"
  },
  "language_info": {
   "codemirror_mode": {
    "name": "ipython",
    "version": 3
   },
   "file_extension": ".py",
   "mimetype": "text/x-python",
   "name": "python",
   "nbconvert_exporter": "python",
   "pygments_lexer": "ipython3",
   "version": "3.11.4"
  },
  "orig_nbformat": 4
 },
 "nbformat": 4,
 "nbformat_minor": 2
}
