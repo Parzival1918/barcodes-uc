{
 "cells": [
  {
   "cell_type": "code",
   "execution_count": 18,
   "metadata": {},
   "outputs": [
    {
     "name": "stdout",
     "output_type": "stream",
     "text": [
      "{'GroupOne': {'Blocks': 1, 'CodewordsPerBlock': 16}, 'GroupTwo': {'Blocks': None, 'CodewordsPerBlock': None}}\n"
     ]
    },
    {
     "data": {
      "text/plain": [
       "{'Mode': '0010',\n",
       " 'CharacterCount': '000001011',\n",
       " 'Data': ['01100001011',\n",
       "  '01111000110',\n",
       "  '10001011100',\n",
       "  '10110111000',\n",
       "  '10011010100',\n",
       "  '001101'],\n",
       " 'ExtraPadding': {'TerminatorZeros': '0000',\n",
       "  'MultipleOf8': '00',\n",
       "  'PadBytes': ['11101100',\n",
       "   '00010001',\n",
       "   '11101100',\n",
       "   '00010001',\n",
       "   '11101100',\n",
       "   '00010001']},\n",
       " 'TotalLength': 128,\n",
       " 'dataBytes': ['00100000',\n",
       "  '01011011',\n",
       "  '00001011',\n",
       "  '01111000',\n",
       "  '11010001',\n",
       "  '01110010',\n",
       "  '11011100',\n",
       "  '01001101',\n",
       "  '01000011',\n",
       "  '01000000',\n",
       "  '11101100',\n",
       "  '00010001',\n",
       "  '11101100',\n",
       "  '00010001',\n",
       "  '11101100',\n",
       "  '00010001'],\n",
       " 'ErrorCorrection': {'GroupOne': [[17,\n",
       "    236,\n",
       "    17,\n",
       "    236,\n",
       "    17,\n",
       "    236,\n",
       "    64,\n",
       "    67,\n",
       "    77,\n",
       "    220,\n",
       "    114,\n",
       "    209,\n",
       "    120,\n",
       "    11,\n",
       "    91,\n",
       "    32]],\n",
       "  'GroupTwo': []}}"
      ]
     },
     "execution_count": 18,
     "metadata": {},
     "output_type": "execute_result"
    }
   ],
   "source": [
    "from barcodes_uc.qrcodes import qrinfo\n",
    "import importlib\n",
    "importlib.reload(qrinfo)\n",
    "\n",
    "qrinfo.qr_size(qrinfo.QRVersion.v1)\n",
    "\n",
    "qrinfo.QRVersion.v1\n",
    "\n",
    "qrinfo.qr_count_indicator(qrinfo.QRVersion.v1, qrinfo.QREncoding.alphanumeric, 'HELLO WORLD')\n",
    "\n",
    "# qrinfo.qr_encode_data(qrinfo.QRVersion.v1, qrinfo.QREncoding.numeric, '002123002')\n",
    "qrinfo.qr_encode_data(qrinfo.QRVersion.v2, qrinfo.QREncoding.alphanumeric, qrinfo.QRErrorCorrectionLevels.H, 'HELLO WORLD')\n",
    "# qrinfo.qr_encode_data(qrinfo.QRVersion.v1, qrinfo.QREncoding.byte, 'Hello')"
   ]
  },
  {
   "cell_type": "code",
   "execution_count": 7,
   "metadata": {},
   "outputs": [
    {
     "data": {
      "text/plain": [
       "2"
      ]
     },
     "execution_count": 7,
     "metadata": {},
     "output_type": "execute_result"
    }
   ],
   "source": [
    "int('00000010', 2)"
   ]
  }
 ],
 "metadata": {
  "kernelspec": {
   "display_name": "Python 3",
   "language": "python",
   "name": "python3"
  },
  "language_info": {
   "codemirror_mode": {
    "name": "ipython",
    "version": 3
   },
   "file_extension": ".py",
   "mimetype": "text/x-python",
   "name": "python",
   "nbconvert_exporter": "python",
   "pygments_lexer": "ipython3",
   "version": "3.9.12"
  },
  "orig_nbformat": 4
 },
 "nbformat": 4,
 "nbformat_minor": 2
}
