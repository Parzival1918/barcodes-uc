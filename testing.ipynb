{
 "cells": [
  {
   "cell_type": "code",
   "execution_count": 10,
   "metadata": {},
   "outputs": [
    {
     "name": "stdout",
     "output_type": "stream",
     "text": [
      "11111110x110101111111\n",
      "10000010x100001000001\n",
      "10111010x011001011101\n",
      "10111010x101001011101\n",
      "10111010x000101011101\n",
      "10000010x111001000001\n",
      "111111101010101111111\n",
      "00000000x101000000000\n",
      "xxxxxx1xx0100xxxxxxxx\n",
      "000101011010010111011\n",
      "100111111100100001101\n",
      "001110000110000000100\n",
      "001000100001000100000\n",
      "000000001000011101111\n",
      "11111110x000101111001\n",
      "10000010x000111000010\n",
      "10111010x000100101010\n",
      "10111010x000000001000\n",
      "10111010x011110111100\n",
      "10000010x110100100001\n",
      "11111110x011110110100\n",
      "\n",
      "208 208 0\n"
     ]
    },
    {
     "data": {
      "text/plain": [
       "[[1, 1, 1, 1, 1, 1, 1, 1, 1, 0, 0, 0, 0, 1, 1, 1, 1, 1, 1, 1, 1],\n",
       " [1, 1, 1, 1, 1, 1, 1, 1, 1, 0, 0, 0, 0, 1, 1, 1, 1, 1, 1, 1, 1],\n",
       " [1, 1, 1, 1, 1, 1, 1, 1, 1, 0, 0, 0, 0, 1, 1, 1, 1, 1, 1, 1, 1],\n",
       " [1, 1, 1, 1, 1, 1, 1, 1, 1, 0, 0, 0, 0, 1, 1, 1, 1, 1, 1, 1, 1],\n",
       " [1, 1, 1, 1, 1, 1, 1, 1, 1, 0, 0, 0, 0, 1, 1, 1, 1, 1, 1, 1, 1],\n",
       " [1, 1, 1, 1, 1, 1, 1, 1, 1, 0, 0, 0, 0, 1, 1, 1, 1, 1, 1, 1, 1],\n",
       " [1, 1, 1, 1, 1, 1, 1, 1, 1, 1, 1, 1, 1, 1, 1, 1, 1, 1, 1, 1, 1],\n",
       " [1, 1, 1, 1, 1, 1, 1, 1, 1, 0, 0, 0, 0, 1, 1, 1, 1, 1, 1, 1, 1],\n",
       " [1, 1, 1, 1, 1, 1, 1, 1, 1, 0, 0, 0, 0, 1, 1, 1, 1, 1, 1, 1, 1],\n",
       " [0, 0, 0, 0, 0, 0, 1, 0, 0, 0, 0, 0, 0, 0, 0, 0, 0, 0, 0, 0, 0],\n",
       " [0, 0, 0, 0, 0, 0, 1, 0, 0, 0, 0, 0, 0, 0, 0, 0, 0, 0, 0, 0, 0],\n",
       " [0, 0, 0, 0, 0, 0, 1, 0, 0, 0, 0, 0, 0, 0, 0, 0, 0, 0, 0, 0, 0],\n",
       " [0, 0, 0, 0, 0, 0, 1, 0, 0, 0, 0, 0, 0, 0, 0, 0, 0, 0, 0, 0, 0],\n",
       " [1, 1, 1, 1, 1, 1, 1, 1, 1, 0, 0, 0, 0, 0, 0, 0, 0, 0, 0, 0, 0],\n",
       " [1, 1, 1, 1, 1, 1, 1, 1, 1, 0, 0, 0, 0, 0, 0, 0, 0, 0, 0, 0, 0],\n",
       " [1, 1, 1, 1, 1, 1, 1, 1, 1, 0, 0, 0, 0, 0, 0, 0, 0, 0, 0, 0, 0],\n",
       " [1, 1, 1, 1, 1, 1, 1, 1, 1, 0, 0, 0, 0, 0, 0, 0, 0, 0, 0, 0, 0],\n",
       " [1, 1, 1, 1, 1, 1, 1, 1, 1, 0, 0, 0, 0, 0, 0, 0, 0, 0, 0, 0, 0],\n",
       " [1, 1, 1, 1, 1, 1, 1, 1, 1, 0, 0, 0, 0, 0, 0, 0, 0, 0, 0, 0, 0],\n",
       " [1, 1, 1, 1, 1, 1, 1, 1, 1, 0, 0, 0, 0, 0, 0, 0, 0, 0, 0, 0, 0],\n",
       " [1, 1, 1, 1, 1, 1, 1, 1, 1, 0, 0, 0, 0, 0, 0, 0, 0, 0, 0, 0, 0]]"
      ]
     },
     "execution_count": 10,
     "metadata": {},
     "output_type": "execute_result"
    }
   ],
   "source": [
    "from barcodes_uc.qrcodes import qrinfo\n",
    "from barcodes_uc.qrcodes import qrgenerator\n",
    "import importlib\n",
    "importlib.reload(qrinfo)\n",
    "importlib.reload(qrgenerator)\n",
    "\n",
    "qrinfo.qr_size(qrinfo.QRVersion.v1)\n",
    "\n",
    "qrinfo.QRVersion.v1\n",
    "\n",
    "qrinfo.qr_count_indicator(qrinfo.QRVersion.v1, qrinfo.QREncoding.alphanumeric, 'HELLO WORLD')\n",
    "\n",
    "# qrinfo.qr_encode_data(qrinfo.QRVersion.v1, qrinfo.QREncoding.numeric, '002123002')\n",
    "qrinfo.qr_encode_data(qrinfo.QRVersion.v1, qrinfo.QREncoding.alphanumeric, qrinfo.QRErrorCorrectionLevels.M, 'HELLO WORLD')\n",
    "# qrinfo.qr_encode_data(qrinfo.QRVersion.v1, qrinfo.QREncoding.byte, 'Hello')\n",
    "\n",
    "# qr = qrgenerator.QRGenerator(msg=\"HELLO WORLD\", encoding=qrinfo.QREncoding.byte, version=qrinfo.QRVersion.v5, error_correction=qrinfo.QRErrorCorrectionLevels.Q)\n",
    "# qr = qrgenerator.QRGenerator(msg=\"Hello, world!\", encoding=qrinfo.QREncoding.byte, version=qrinfo.QRVersion.v3, error_correction=qrinfo.QRErrorCorrectionLevels.Q)\n",
    "qr = qrgenerator.QRGenerator(msg=\"HELLO WORLD\", encoding=qrinfo.QREncoding.alphanumeric, version=qrinfo.QRVersion.v1, error_correction=qrinfo.QRErrorCorrectionLevels.Q)\n",
    "ans = qr.generate()\n",
    "ans.size\n",
    "ans.reserved_positions"
   ]
  }
 ],
 "metadata": {
  "kernelspec": {
   "display_name": "Python 3",
   "language": "python",
   "name": "python3"
  },
  "language_info": {
   "codemirror_mode": {
    "name": "ipython",
    "version": 3
   },
   "file_extension": ".py",
   "mimetype": "text/x-python",
   "name": "python",
   "nbconvert_exporter": "python",
   "pygments_lexer": "ipython3",
   "version": "3.9.12"
  },
  "orig_nbformat": 4
 },
 "nbformat": 4,
 "nbformat_minor": 2
}
